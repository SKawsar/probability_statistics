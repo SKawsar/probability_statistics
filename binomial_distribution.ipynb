{
 "cells": [
  {
   "cell_type": "code",
   "execution_count": 376,
   "metadata": {
    "collapsed": true,
    "pycharm": {
     "name": "#%%\n"
    }
   },
   "outputs": [],
   "source": [
    "# Import the bernoulli object from scipy.stats\n",
    "from scipy.stats import bernoulli\n",
    "import numpy as np\n",
    "\n",
    "from scipy.stats import binom, describe"
   ]
  },
  {
   "cell_type": "code",
   "execution_count": 377,
   "outputs": [],
   "source": [
    "# Set the random seed to reproduce the results\n",
    "np.random.seed(42)"
   ],
   "metadata": {
    "collapsed": false,
    "pycharm": {
     "name": "#%%\n"
    }
   }
  },
  {
   "cell_type": "markdown",
   "source": [
    "#### Simulate one coin flip with 35% chance of getting heads\n",
    "bernoulli.rvs(p=the probability of a single success, size=number of coin flips)"
   ],
   "metadata": {
    "collapsed": false,
    "pycharm": {
     "name": "#%% md\n"
    }
   }
  },
  {
   "cell_type": "code",
   "execution_count": 378,
   "outputs": [
    {
     "name": "stdout",
     "output_type": "stream",
     "text": [
      "[0]\n"
     ]
    }
   ],
   "source": [
    "coin_flip = bernoulli.rvs(p=0.35, size=1)\n",
    "print(coin_flip)"
   ],
   "metadata": {
    "collapsed": false,
    "pycharm": {
     "name": "#%%\n"
    }
   }
  },
  {
   "cell_type": "markdown",
   "source": [
    "#### Simulate ten coin flips and get the number of heads while there's 35% of getting heads"
   ],
   "metadata": {
    "collapsed": false,
    "pycharm": {
     "name": "#%% md\n"
    }
   }
  },
  {
   "cell_type": "code",
   "execution_count": 379,
   "outputs": [
    {
     "name": "stdout",
     "output_type": "stream",
     "text": [
      "4\n"
     ]
    }
   ],
   "source": [
    "ten_coin_flips = bernoulli.rvs(p=0.35, size=10)\n",
    "coin_flips_sum = sum(ten_coin_flips)\n",
    "print(coin_flips_sum)"
   ],
   "metadata": {
    "collapsed": false,
    "pycharm": {
     "name": "#%%\n"
    }
   }
  },
  {
   "cell_type": "markdown",
   "source": [
    "#### Simulate ten coin flips and get the number of heads while there's 50% of getting heads"
   ],
   "metadata": {
    "collapsed": false,
    "pycharm": {
     "name": "#%% md\n"
    }
   }
  },
  {
   "cell_type": "code",
   "execution_count": 380,
   "outputs": [
    {
     "name": "stdout",
     "output_type": "stream",
     "text": [
      "2\n"
     ]
    }
   ],
   "source": [
    "# Simulate ten coin flips and get the number of heads\n",
    "five_coin_flips = bernoulli.rvs(p=0.5, size=5)\n",
    "coin_flips_sum = sum(five_coin_flips)\n",
    "print(coin_flips_sum)"
   ],
   "metadata": {
    "collapsed": false,
    "pycharm": {
     "name": "#%%\n"
    }
   }
  },
  {
   "cell_type": "markdown",
   "source": [
    "#### Simulate 20 trials of 10 coin flips with a 35% chance of getting heads\n",
    "binom.rvs(n=number of coin flips, p=the probability of a single success, size=number of trials)"
   ],
   "metadata": {
    "collapsed": false,
    "pycharm": {
     "name": "#%% md\n"
    }
   }
  },
  {
   "cell_type": "code",
   "execution_count": 381,
   "outputs": [
    {
     "name": "stdout",
     "output_type": "stream",
     "text": [
      "[3 4 3 3 4 2 3 3 3 5 2 4 4 1 4 2 1 6 6 5]\n"
     ]
    }
   ],
   "source": [
    "# Simulate 20 trials of 10 coin flips\n",
    "draws = binom.rvs(n=10, p=0.35, size=20)\n",
    "print(draws)"
   ],
   "metadata": {
    "collapsed": false,
    "pycharm": {
     "name": "#%%\n"
    }
   }
  },
  {
   "cell_type": "markdown",
   "source": [
    "![](../../../AppData/Local/Temp/binomial-distribution-01-1621924404.png)"
   ],
   "metadata": {
    "collapsed": false,
    "pycharm": {
     "name": "#%% md\n"
    }
   }
  },
  {
   "cell_type": "markdown",
   "source": [
    "#### Predicting the probability of defects\n",
    "Any situation with exactly two possible outcomes can be modeled with binomial random variables. For example, you could model if someone likes or dislikes a product, or if they voted or not.\n",
    "\n",
    "Let's model whether or not a component from a supplier comes with a defect. From the thousands of components that we got from a supplier, we are going to take a sample of 50 (n=50), selected randomly. The agreed and accepted defect rate is 2% (p=0.02).\n",
    "\n",
    "Recall that:\n",
    "\n",
    "binom.pmf() calculates the probability of having exactly k heads out of n coin flips.\n",
    "binom.cdf() calculates the probability of having k heads or less out of n coin flips.\n",
    "binom.sf() calculates the probability of having more than k heads out of n coin flips.\n",
    "\n",
    "n=number of samples, p=the probability of a single success, k=number of success\n",
    "\n",
    "sf means survival function"
   ],
   "metadata": {
    "collapsed": false,
    "pycharm": {
     "name": "#%% md\n"
    }
   }
  },
  {
   "cell_type": "markdown",
   "source": [
    "#### 1. Probability of getting exactly 1 defective component"
   ],
   "metadata": {
    "collapsed": false,
    "pycharm": {
     "name": "#%% md\n"
    }
   }
  },
  {
   "cell_type": "code",
   "execution_count": 382,
   "outputs": [
    {
     "name": "stdout",
     "output_type": "stream",
     "text": [
      "0.37160171437460954\n"
     ]
    }
   ],
   "source": [
    "prob_one_defect = binom.pmf(k=1, n=50, p=0.02)\n",
    "print(prob_one_defect)"
   ],
   "metadata": {
    "collapsed": false,
    "pycharm": {
     "name": "#%%\n"
    }
   }
  },
  {
   "cell_type": "markdown",
   "source": [
    "#### 2. Probability of not getting any defective components"
   ],
   "metadata": {
    "collapsed": false,
    "pycharm": {
     "name": "#%% md\n"
    }
   }
  },
  {
   "cell_type": "code",
   "execution_count": 383,
   "outputs": [
    {
     "name": "stdout",
     "output_type": "stream",
     "text": [
      "0.36416968008711675\n"
     ]
    }
   ],
   "source": [
    "prob_no_defects = binom.pmf(k=0, n=50, p=0.02)\n",
    "print(prob_no_defects)"
   ],
   "metadata": {
    "collapsed": false,
    "pycharm": {
     "name": "#%%\n"
    }
   }
  },
  {
   "cell_type": "markdown",
   "source": [
    "#### 3. Probability of getting 2 or less defective components"
   ],
   "metadata": {
    "collapsed": false,
    "pycharm": {
     "name": "#%% md\n"
    }
   }
  },
  {
   "cell_type": "code",
   "execution_count": 384,
   "outputs": [
    {
     "name": "stdout",
     "output_type": "stream",
     "text": [
      "0.9215722516490309\n"
     ]
    }
   ],
   "source": [
    "prob_two_or_less_defects = binom.cdf(k=2, n=50, p=0.02)\n",
    "print(prob_two_or_less_defects)"
   ],
   "metadata": {
    "collapsed": false,
    "pycharm": {
     "name": "#%%\n"
    }
   }
  },
  {
   "cell_type": "markdown",
   "source": [
    "#### 4. Probability of getting more than 2 defective components"
   ],
   "metadata": {
    "collapsed": false,
    "pycharm": {
     "name": "#%% md\n"
    }
   }
  },
  {
   "cell_type": "code",
   "execution_count": 385,
   "outputs": [
    {
     "name": "stdout",
     "output_type": "stream",
     "text": [
      "0.0784277483509691\n"
     ]
    }
   ],
   "source": [
    "prob_more_than_two_defects = binom.sf(k=2, n=50, p=0.02)\n",
    "\n",
    "# or\n",
    "prob_more_than_two_defects = 1-binom.cdf(k=2, n=50, p=0.02)\n",
    "\n",
    "print(prob_more_than_two_defects)"
   ],
   "metadata": {
    "collapsed": false,
    "pycharm": {
     "name": "#%%\n"
    }
   }
  },
  {
   "cell_type": "markdown",
   "source": [
    "#### Predicting employment status\n",
    "Consider a survey about employment that contains the question \"Are you employed?\" It is known that 65% of respondents will answer \"yes\" (p=0.65). Eight survey responses have been collected (n=8)."
   ],
   "metadata": {
    "collapsed": false,
    "pycharm": {
     "name": "#%% md\n"
    }
   }
  },
  {
   "cell_type": "markdown",
   "source": [
    "#### 1. Calculate the probability of getting exactly 5 \"yes\" responses"
   ],
   "metadata": {
    "collapsed": false,
    "pycharm": {
     "name": "#%% md\n"
    }
   }
  },
  {
   "cell_type": "code",
   "execution_count": 386,
   "outputs": [
    {
     "name": "stdout",
     "output_type": "stream",
     "text": [
      "0.2785857790625\n"
     ]
    }
   ],
   "source": [
    "prob_five_yes = binom.pmf(k=5, n=8, p=0.65)\n",
    "print(prob_five_yes)"
   ],
   "metadata": {
    "collapsed": false,
    "pycharm": {
     "name": "#%%\n"
    }
   }
  },
  {
   "cell_type": "markdown",
   "source": [
    "#### 2. Calculate the probability of getting 3 or less \"no\" responses"
   ],
   "metadata": {
    "collapsed": false,
    "pycharm": {
     "name": "#%% md\n"
    }
   }
  },
  {
   "cell_type": "code",
   "execution_count": 387,
   "outputs": [
    {
     "name": "stdout",
     "output_type": "stream",
     "text": [
      "0.8939090951171875\n"
     ]
    }
   ],
   "source": [
    "prob_three_or_less_no = 1-binom.cdf(k=3, n=8, p=0.65)\n",
    "print(prob_three_or_less_no)"
   ],
   "metadata": {
    "collapsed": false,
    "pycharm": {
     "name": "#%%\n"
    }
   }
  },
  {
   "cell_type": "markdown",
   "source": [
    "#### 3. Calculate the probability of getting more than 3 \"yes\" responses"
   ],
   "metadata": {
    "collapsed": false,
    "pycharm": {
     "name": "#%% md\n"
    }
   }
  },
  {
   "cell_type": "code",
   "execution_count": 388,
   "outputs": [
    {
     "name": "stdout",
     "output_type": "stream",
     "text": [
      "0.8939090951171875\n"
     ]
    }
   ],
   "source": [
    "prob_more_than_three_yes = binom.sf(k=3, n=8, p=0.65)\n",
    "print(prob_more_than_three_yes)"
   ],
   "metadata": {
    "collapsed": false,
    "pycharm": {
     "name": "#%%\n"
    }
   }
  },
  {
   "cell_type": "markdown",
   "source": [
    "#### Predicting burglary conviction rate\n",
    "Imagine that in your town there are many crimes, including burglaries, but only 20% of them get solved (p=0.2). Last week, there were 9 burglaries (n=9). Answer the following questions.\n",
    "\n",
    "#### 1. What is the probability of solving 4 burglaries?"
   ],
   "metadata": {
    "collapsed": false,
    "pycharm": {
     "name": "#%% md\n"
    }
   }
  },
  {
   "cell_type": "code",
   "execution_count": 389,
   "outputs": [
    {
     "name": "stdout",
     "output_type": "stream",
     "text": [
      "0.066060288\n"
     ]
    }
   ],
   "source": [
    "four_solved = binom.pmf(k=4, n=9, p=0.2)\n",
    "print(four_solved)"
   ],
   "metadata": {
    "collapsed": false,
    "pycharm": {
     "name": "#%%\n"
    }
   }
  },
  {
   "cell_type": "markdown",
   "source": [
    "#### 2. What is the probability of solving more than 3 burglaries?"
   ],
   "metadata": {
    "collapsed": false,
    "pycharm": {
     "name": "#%% md\n"
    }
   }
  },
  {
   "cell_type": "code",
   "execution_count": 390,
   "outputs": [
    {
     "name": "stdout",
     "output_type": "stream",
     "text": [
      "0.08564172800000006\n"
     ]
    }
   ],
   "source": [
    "more_than_three_solved = binom.sf(k=3, n=9, p=0.2)\n",
    "print(more_than_three_solved)"
   ],
   "metadata": {
    "collapsed": false,
    "pycharm": {
     "name": "#%%\n"
    }
   }
  },
  {
   "cell_type": "markdown",
   "source": [],
   "metadata": {
    "collapsed": false,
    "pycharm": {
     "name": "#%% md\n"
    }
   }
  },
  {
   "cell_type": "markdown",
   "source": [
    "#### 3. What is the probability of solving 2 or 3 burglaries?"
   ],
   "metadata": {
    "collapsed": false,
    "pycharm": {
     "name": "#%% md\n"
    }
   }
  },
  {
   "cell_type": "code",
   "execution_count": 391,
   "outputs": [
    {
     "name": "stdout",
     "output_type": "stream",
     "text": [
      "0.4781506560000002\n"
     ]
    }
   ],
   "source": [
    "two_or_three_solved = binom.pmf(k=2, n=9, p=0.2) + binom.pmf(k=3, n=9, p=0.2)\n",
    "print(two_or_three_solved)"
   ],
   "metadata": {
    "collapsed": false,
    "pycharm": {
     "name": "#%%\n"
    }
   }
  },
  {
   "cell_type": "markdown",
   "source": [
    "#### 4. What is the probability of solving 1 or fewer or more than 7 burglaries?"
   ],
   "metadata": {
    "collapsed": false,
    "pycharm": {
     "name": "#%% md\n"
    }
   }
  },
  {
   "cell_type": "code",
   "execution_count": 392,
   "outputs": [
    {
     "name": "stdout",
     "output_type": "stream",
     "text": [
      "0.4362265599999997\n"
     ]
    }
   ],
   "source": [
    "tail_probabilities = binom.cdf(k=1, n=9, p=0.2) + binom.sf(k=7, n=9, p=0.2)\n",
    "print(tail_probabilities)"
   ],
   "metadata": {
    "collapsed": false,
    "pycharm": {
     "name": "#%%\n"
    }
   }
  },
  {
   "cell_type": "markdown",
   "source": [
    "#### How do you calculate the expected value and the variance from a binomial distribution with parameters n=10 and p=0.25?"
   ],
   "metadata": {
    "collapsed": false,
    "pycharm": {
     "name": "#%% md\n"
    }
   }
  },
  {
   "cell_type": "code",
   "execution_count": 393,
   "outputs": [
    {
     "data": {
      "text/plain": "(array(2.5), array(1.875))"
     },
     "execution_count": 393,
     "metadata": {},
     "output_type": "execute_result"
    }
   ],
   "source": [
    "binom.stats(n=10, p=0.25)"
   ],
   "metadata": {
    "collapsed": false,
    "pycharm": {
     "name": "#%%\n"
    }
   }
  },
  {
   "cell_type": "markdown",
   "source": [
    "#### Calculating the sample mean\n",
    "You can generate a sample with different characteristics and measure the sample mean. Notice how the sample mean converges to the expected value of 0.5 when the sample size is increasing."
   ],
   "metadata": {
    "collapsed": false,
    "pycharm": {
     "name": "#%% md\n"
    }
   }
  },
  {
   "cell_type": "code",
   "execution_count": 394,
   "outputs": [
    {
     "name": "stdout",
     "output_type": "stream",
     "text": [
      "0.47\n",
      "0.505\n",
      "0.506\n"
     ]
    }
   ],
   "source": [
    "# Sample mean from a generated sample of 100 fair coin flips\n",
    "sample_of_100_flips = binom.rvs(n=1, p=0.5, size=100)\n",
    "sample_mean_100_flips = describe(sample_of_100_flips).mean\n",
    "print(sample_mean_100_flips)\n",
    "\n",
    "# Sample mean from a generated sample of 1,000 fair coin flips\n",
    "sample_mean_1000_flips = describe(binom.rvs(n=1, p=0.5, size=1000)).mean\n",
    "print(sample_mean_1000_flips)\n",
    "\n",
    "# Sample mean from a generated sample of 2,000 fair coin flips\n",
    "sample_mean_2000_flips = describe(binom.rvs(n=1, p=0.5, size=2000)).mean\n",
    "print(sample_mean_2000_flips)"
   ],
   "metadata": {
    "collapsed": false,
    "pycharm": {
     "name": "#%%\n"
    }
   }
  },
  {
   "cell_type": "markdown",
   "source": [
    "#### Check if the sample values match the theoretical values.\n",
    "Example 1:"
   ],
   "metadata": {
    "collapsed": false,
    "pycharm": {
     "name": "#%% md\n"
    }
   }
  },
  {
   "cell_type": "code",
   "execution_count": 395,
   "outputs": [
    {
     "name": "stdout",
     "output_type": "stream",
     "text": [
      "experimental mean =  2.963\n",
      "experimental variance =  2.0106363181590794\n",
      "theoretical mean =  3.0\n",
      "theoretical variance =  2.0999999999999996\n",
      "(array(3.), array(2.1))\n"
     ]
    }
   ],
   "source": [
    "sample = binom.rvs(n=10, p=0.3, size=2000)\n",
    "\n",
    "# Calculate the sample mean and variance from the sample variable\n",
    "sample_describe = describe(sample)\n",
    "\n",
    "# Calculate the sample mean using the values of n and p\n",
    "# sample mean = n*p = number of samples * the probability of single success\n",
    "mean = 10*0.3\n",
    "\n",
    "# Calculate the sample variance using the value of 1-p\n",
    "# sample variance = n*p*(1-p) = sample mean * probability of single failure\n",
    "variance = mean*0.7\n",
    "\n",
    "# Calculate the sample mean and variance for 10 coin flips with p=0.3\n",
    "binom_stats = binom.stats(n=10, p=0.3)\n",
    "\n",
    "print(\"experimental mean = \", sample_describe.mean)\n",
    "print(\"experimental variance = \", sample_describe.variance)\n",
    "print(\"theoretical mean = \", mean)\n",
    "print(\"theoretical variance = \", variance)\n",
    "print(binom_stats)"
   ],
   "metadata": {
    "collapsed": false,
    "pycharm": {
     "name": "#%%\n"
    }
   }
  },
  {
   "cell_type": "markdown",
   "source": [
    "Example 2:"
   ],
   "metadata": {
    "collapsed": false,
    "pycharm": {
     "name": "#%% md\n"
    }
   }
  },
  {
   "cell_type": "code",
   "execution_count": 396,
   "outputs": [
    {
     "name": "stdout",
     "output_type": "stream",
     "text": [
      "Mean 2.4992\n",
      "Variance 1.8822814814814817\n",
      "(array(2.5), array(1.875))\n"
     ]
    }
   ],
   "source": [
    "averages = []\n",
    "variances = []\n",
    "\n",
    "for i in range(0, 1500):\n",
    "    # 10 trials of 10 coin flips with 25% probability of heads\n",
    "    sample = binom.rvs(n=10, p=0.25, size=10)\n",
    "    # Mean and variance of the values in the sample variable\n",
    "    averages.append(describe(sample).mean)\n",
    "    variances.append(describe(sample).variance)\n",
    "\n",
    "# Calculate the mean of the averages variable\n",
    "print(\"Mean {}\".format(describe(averages).mean))\n",
    "\n",
    "# Calculate the mean of the variances variable\n",
    "print(\"Variance {}\".format(describe(variances).mean))\n",
    "\n",
    "# Calculate the mean and variance\n",
    "print(binom.stats(n=10, p=0.25))"
   ],
   "metadata": {
    "collapsed": false,
    "pycharm": {
     "name": "#%%\n"
    }
   }
  }
 ],
 "metadata": {
  "kernelspec": {
   "display_name": "Python 3",
   "language": "python",
   "name": "python3"
  },
  "language_info": {
   "codemirror_mode": {
    "name": "ipython",
    "version": 2
   },
   "file_extension": ".py",
   "mimetype": "text/x-python",
   "name": "python",
   "nbconvert_exporter": "python",
   "pygments_lexer": "ipython2",
   "version": "2.7.6"
  }
 },
 "nbformat": 4,
 "nbformat_minor": 0
}